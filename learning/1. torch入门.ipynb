{
 "cells": [
  {
   "cell_type": "code",
   "execution_count": 1,
   "id": "8e63f42f-6668-41ef-839d-f1a981ed8f2f",
   "metadata": {},
   "outputs": [],
   "source": [
    "import torch\n",
    "import numpy as np\n",
    "torch.set_printoptions(precision=6)"
   ]
  },
  {
   "cell_type": "markdown",
   "id": "cbae02dd-4f6f-4b8e-869e-c642beab6775",
   "metadata": {},
   "source": [
    "### 创建张量(list)"
   ]
  },
  {
   "cell_type": "code",
   "execution_count": 2,
   "id": "2d2dbd06-b010-4a80-b955-3e6b29880e2b",
   "metadata": {
    "tags": []
   },
   "outputs": [
    {
     "data": {
      "text/plain": [
       "tensor([1., 2., 3.])"
      ]
     },
     "execution_count": 2,
     "metadata": {},
     "output_type": "execute_result"
    }
   ],
   "source": [
    "torch.Tensor([1,2,3])"
   ]
  },
  {
   "cell_type": "markdown",
   "id": "4be5a14f-2163-45b0-859a-49c8edf292f5",
   "metadata": {},
   "source": [
    "### torch.ones()/zeros()/empty()"
   ]
  },
  {
   "cell_type": "code",
   "execution_count": 3,
   "id": "b5ab5acc-be04-4b95-92aa-3962e0a1efa2",
   "metadata": {},
   "outputs": [
    {
     "data": {
      "text/plain": [
       "tensor([[0., 0., 0.],\n",
       "        [0., 0., 0.]])"
      ]
     },
     "execution_count": 3,
     "metadata": {},
     "output_type": "execute_result"
    }
   ],
   "source": [
    "torch.ones([2,3])\n",
    "torch.zeros([2,3])\n",
    "torch.empty([2,3])"
   ]
  },
  {
   "cell_type": "markdown",
   "id": "36fd6dc5-b861-4112-9946-439b86e8f59f",
   "metadata": {},
   "source": [
    "### np.array转换"
   ]
  },
  {
   "cell_type": "code",
   "execution_count": 4,
   "id": "1cc0dc32-820f-4930-b1f7-1e0ea44e9b19",
   "metadata": {},
   "outputs": [
    {
     "data": {
      "text/plain": [
       "tensor([[ 0.,  1.,  2.,  3.],\n",
       "        [ 4.,  5.,  6.,  7.],\n",
       "        [ 8.,  9., 10., 11.]])"
      ]
     },
     "execution_count": 4,
     "metadata": {},
     "output_type": "execute_result"
    }
   ],
   "source": [
    "arr = np.arange(12).reshape(3,4)\n",
    "torch.Tensor(arr)"
   ]
  },
  {
   "cell_type": "markdown",
   "id": "a083a2bb-8cfa-45c2-b8aa-3df65e449d78",
   "metadata": {},
   "source": [
    "###  整型数组"
   ]
  },
  {
   "cell_type": "code",
   "execution_count": 5,
   "id": "34a4fc3a-f968-4405-9dd8-964485b92d50",
   "metadata": {},
   "outputs": [
    {
     "data": {
      "text/plain": [
       "tensor([[1, 1, 1, 0],\n",
       "        [2, 0, 1, 0],\n",
       "        [2, 2, 2, 1]])"
      ]
     },
     "execution_count": 5,
     "metadata": {},
     "output_type": "execute_result"
    }
   ],
   "source": [
    "torch.randint(low=0, high=3, size=[3,4])"
   ]
  },
  {
   "cell_type": "markdown",
   "id": "01581ec2-2ce5-42df-845c-b27becb9ad57",
   "metadata": {},
   "source": [
    "### 张量的方法和属性"
   ]
  },
  {
   "cell_type": "code",
   "execution_count": 6,
   "id": "41bb5a40-473c-49a5-a866-caff00565d41",
   "metadata": {},
   "outputs": [],
   "source": [
    "t1 = torch.Tensor([[[1]]])"
   ]
  },
  {
   "cell_type": "code",
   "execution_count": 7,
   "id": "3740fe5c-9c1c-4f17-9ef6-50f81c7e978f",
   "metadata": {},
   "outputs": [
    {
     "data": {
      "text/plain": [
       "1.0"
      ]
     },
     "execution_count": 7,
     "metadata": {},
     "output_type": "execute_result"
    }
   ],
   "source": [
    "t1.item()"
   ]
  },
  {
   "cell_type": "code",
   "execution_count": 8,
   "id": "3b7fdfab-280d-4d96-bfcd-c1d47abc6980",
   "metadata": {},
   "outputs": [],
   "source": [
    "t2 = torch.Tensor([[[1, 2]]])"
   ]
  },
  {
   "cell_type": "code",
   "execution_count": 9,
   "id": "6df296f4-a3af-4320-b849-64dc4fd822fd",
   "metadata": {},
   "outputs": [],
   "source": [
    "# t2.item() 只能有一个值"
   ]
  },
  {
   "cell_type": "markdown",
   "id": "2ce2b08b-b9eb-4760-b673-32ad4d48a500",
   "metadata": {},
   "source": [
    "### 转换成numpy类型"
   ]
  },
  {
   "cell_type": "code",
   "execution_count": 10,
   "id": "ef14aab8-0c31-4fe0-8434-0f8631f616bb",
   "metadata": {},
   "outputs": [
    {
     "data": {
      "text/plain": [
       "array([[[1., 2.]]], dtype=float32)"
      ]
     },
     "execution_count": 10,
     "metadata": {},
     "output_type": "execute_result"
    }
   ],
   "source": [
    "t2.numpy()"
   ]
  },
  {
   "cell_type": "markdown",
   "id": "ee4ea307-e84e-448c-a16e-f74eca464805",
   "metadata": {},
   "source": [
    "### 获取形状"
   ]
  },
  {
   "cell_type": "code",
   "execution_count": 11,
   "id": "5b4afe8c-f5f9-446c-bb4d-46672b838241",
   "metadata": {},
   "outputs": [
    {
     "data": {
      "text/plain": [
       "torch.Size([1, 1, 2])"
      ]
     },
     "execution_count": 11,
     "metadata": {},
     "output_type": "execute_result"
    }
   ],
   "source": [
    "t2.size()"
   ]
  },
  {
   "cell_type": "markdown",
   "id": "748dd4f3-898f-4fc7-84be-724d8af4bebb",
   "metadata": {},
   "source": [
    "### 形状的修改 浅拷贝"
   ]
  },
  {
   "cell_type": "code",
   "execution_count": 12,
   "id": "82d426bc-9c97-4f2c-a2a6-675327d116e9",
   "metadata": {},
   "outputs": [
    {
     "data": {
      "text/plain": [
       "tensor([1., 2.])"
      ]
     },
     "execution_count": 12,
     "metadata": {},
     "output_type": "execute_result"
    }
   ],
   "source": [
    "t2.view([-1])"
   ]
  },
  {
   "cell_type": "code",
   "execution_count": 13,
   "id": "4c7756d1-3f3e-4adb-a811-bf5498c3522f",
   "metadata": {},
   "outputs": [
    {
     "data": {
      "text/plain": [
       "tensor([[1., 2.]])"
      ]
     },
     "execution_count": 13,
     "metadata": {},
     "output_type": "execute_result"
    }
   ],
   "source": [
    "t2.view([1,2])"
   ]
  },
  {
   "cell_type": "markdown",
   "id": "b1fb1a52-f095-4bea-8c4d-434378d85d70",
   "metadata": {},
   "source": [
    "### 获取阶数"
   ]
  },
  {
   "cell_type": "code",
   "execution_count": 14,
   "id": "c5b68ba3-6d27-4c4d-b082-00f9472697a6",
   "metadata": {},
   "outputs": [
    {
     "data": {
      "text/plain": [
       "3"
      ]
     },
     "execution_count": 14,
     "metadata": {},
     "output_type": "execute_result"
    }
   ],
   "source": [
    "t2.dim()"
   ]
  },
  {
   "cell_type": "markdown",
   "id": "9d8d71ee-e7cd-4b63-b5cc-f604febdef43",
   "metadata": {},
   "source": [
    "### 获取最大值"
   ]
  },
  {
   "cell_type": "code",
   "execution_count": 15,
   "id": "556add97-162a-4acd-a991-7e83f603daa2",
   "metadata": {},
   "outputs": [
    {
     "data": {
      "text/plain": [
       "tensor(2.)"
      ]
     },
     "execution_count": 15,
     "metadata": {},
     "output_type": "execute_result"
    }
   ],
   "source": [
    "t2.max()"
   ]
  },
  {
   "cell_type": "markdown",
   "id": "f313f151-163e-460a-9d5c-dbfc758ba97d",
   "metadata": {},
   "source": [
    "### 转置"
   ]
  },
  {
   "cell_type": "code",
   "execution_count": 16,
   "id": "ae3e045a-f380-4ef7-9876-662e10de8692",
   "metadata": {},
   "outputs": [],
   "source": [
    "t3 = torch.Tensor(np.arange(24).reshape(2,3,4))"
   ]
  },
  {
   "cell_type": "code",
   "execution_count": 17,
   "id": "77889d45-d9d8-4d64-b32e-f2e5bca9b414",
   "metadata": {},
   "outputs": [
    {
     "data": {
      "text/plain": [
       "tensor([[[ 0.,  1.,  2.,  3.],\n",
       "         [ 4.,  5.,  6.,  7.],\n",
       "         [ 8.,  9., 10., 11.]],\n",
       "\n",
       "        [[12., 13., 14., 15.],\n",
       "         [16., 17., 18., 19.],\n",
       "         [20., 21., 22., 23.]]])"
      ]
     },
     "execution_count": 17,
     "metadata": {},
     "output_type": "execute_result"
    }
   ],
   "source": [
    "t3"
   ]
  },
  {
   "cell_type": "code",
   "execution_count": 18,
   "id": "7528d105-cb9f-4c8b-b357-da5b71702df9",
   "metadata": {},
   "outputs": [
    {
     "data": {
      "text/plain": [
       "tensor([[[ 0.,  1.,  2.,  3.],\n",
       "         [12., 13., 14., 15.]],\n",
       "\n",
       "        [[ 4.,  5.,  6.,  7.],\n",
       "         [16., 17., 18., 19.]],\n",
       "\n",
       "        [[ 8.,  9., 10., 11.],\n",
       "         [20., 21., 22., 23.]]])"
      ]
     },
     "execution_count": 18,
     "metadata": {},
     "output_type": "execute_result"
    }
   ],
   "source": [
    "t3.transpose(0,1)"
   ]
  },
  {
   "cell_type": "code",
   "execution_count": 19,
   "id": "f28dc9f9-e195-4b3e-9e14-be43255542f8",
   "metadata": {},
   "outputs": [
    {
     "data": {
      "text/plain": [
       "tensor([[[ 0., 12.],\n",
       "         [ 1., 13.],\n",
       "         [ 2., 14.],\n",
       "         [ 3., 15.]],\n",
       "\n",
       "        [[ 4., 16.],\n",
       "         [ 5., 17.],\n",
       "         [ 6., 18.],\n",
       "         [ 7., 19.]],\n",
       "\n",
       "        [[ 8., 20.],\n",
       "         [ 9., 21.],\n",
       "         [10., 22.],\n",
       "         [11., 23.]]])"
      ]
     },
     "execution_count": 19,
     "metadata": {},
     "output_type": "execute_result"
    }
   ],
   "source": [
    "t3.permute(1,2,0)"
   ]
  },
  {
   "cell_type": "markdown",
   "id": "ccb78d0b-9383-4f89-b5cb-8d65c5ce6a13",
   "metadata": {},
   "source": [
    "### 取值和切片"
   ]
  },
  {
   "cell_type": "code",
   "execution_count": 20,
   "id": "5f143e7e-7c59-4740-9ed7-a8313b60180f",
   "metadata": {},
   "outputs": [],
   "source": [
    "t4 = t3.permute(1,2,0)"
   ]
  },
  {
   "cell_type": "code",
   "execution_count": 21,
   "id": "16b95728-e82e-49f0-bb08-48ba6876794e",
   "metadata": {},
   "outputs": [
    {
     "data": {
      "text/plain": [
       "tensor([[[ 0., 12.],\n",
       "         [ 1., 13.],\n",
       "         [ 2., 14.],\n",
       "         [ 3., 15.]],\n",
       "\n",
       "        [[ 4., 16.],\n",
       "         [ 5., 17.],\n",
       "         [ 6., 18.],\n",
       "         [ 7., 19.]],\n",
       "\n",
       "        [[ 8., 20.],\n",
       "         [ 9., 21.],\n",
       "         [10., 22.],\n",
       "         [11., 23.]]])"
      ]
     },
     "execution_count": 21,
     "metadata": {},
     "output_type": "execute_result"
    }
   ],
   "source": [
    "t4"
   ]
  },
  {
   "cell_type": "code",
   "execution_count": 22,
   "id": "5c0ed282-ad59-4d32-83c9-c5e13585df40",
   "metadata": {},
   "outputs": [],
   "source": [
    "t4[1, 2, 1] = 18"
   ]
  },
  {
   "cell_type": "code",
   "execution_count": 23,
   "id": "f8f60a2b-97e7-418c-87a1-56116c1ce678",
   "metadata": {},
   "outputs": [
    {
     "data": {
      "text/plain": [
       "tensor([[ 0., 12.],\n",
       "        [ 1., 13.],\n",
       "        [ 2., 14.],\n",
       "        [ 3., 15.]])"
      ]
     },
     "execution_count": 23,
     "metadata": {},
     "output_type": "execute_result"
    }
   ],
   "source": [
    "t4[0, :, :]"
   ]
  },
  {
   "cell_type": "markdown",
   "id": "30122fc9-eea5-4c95-a365-fc83de87479f",
   "metadata": {},
   "source": [
    "### torch的数据类型"
   ]
  },
  {
   "cell_type": "code",
   "execution_count": 24,
   "id": "0c4a3a1f-fed2-440f-9f9a-ede689ec9848",
   "metadata": {},
   "outputs": [
    {
     "data": {
      "text/plain": [
       "torch.float32"
      ]
     },
     "execution_count": 24,
     "metadata": {},
     "output_type": "execute_result"
    }
   ],
   "source": [
    "t4.dtype"
   ]
  },
  {
   "cell_type": "code",
   "execution_count": 25,
   "id": "a10fbc72-2215-4cda-a3f5-ee3ee1ebb686",
   "metadata": {},
   "outputs": [
    {
     "data": {
      "text/plain": [
       "torch.float32"
      ]
     },
     "execution_count": 25,
     "metadata": {},
     "output_type": "execute_result"
    }
   ],
   "source": [
    "torch.ones([1,2], dtype=torch.float32).dtype"
   ]
  },
  {
   "cell_type": "code",
   "execution_count": 26,
   "id": "d581e25b-05d0-4832-b59c-c17457bf4ae8",
   "metadata": {},
   "outputs": [],
   "source": [
    "t5 = torch.Tensor(np.arange(12, dtype=np.int32))"
   ]
  },
  {
   "cell_type": "code",
   "execution_count": 27,
   "id": "3cd4f1d2-2302-41b8-bdb5-c67acad257fc",
   "metadata": {},
   "outputs": [
    {
     "data": {
      "text/plain": [
       "torch.float32"
      ]
     },
     "execution_count": 27,
     "metadata": {},
     "output_type": "execute_result"
    }
   ],
   "source": [
    "t5.dtype"
   ]
  },
  {
   "cell_type": "code",
   "execution_count": 28,
   "id": "948b6e27-9132-473d-82ae-bd40e197945e",
   "metadata": {},
   "outputs": [
    {
     "data": {
      "text/plain": [
       "tensor([ 0,  1,  2,  3,  4,  5,  6,  7,  8,  9, 10, 11], dtype=torch.int32)"
      ]
     },
     "execution_count": 28,
     "metadata": {},
     "output_type": "execute_result"
    }
   ],
   "source": [
    "t5.int()"
   ]
  },
  {
   "cell_type": "code",
   "execution_count": 29,
   "id": "ae6ddb8f-c773-4de3-8b65-6c6dee55528b",
   "metadata": {},
   "outputs": [
    {
     "data": {
      "text/plain": [
       "torch.float32"
      ]
     },
     "execution_count": 29,
     "metadata": {},
     "output_type": "execute_result"
    }
   ],
   "source": [
    "torch.tensor(np.array(12), dtype=torch.float32).dtype"
   ]
  },
  {
   "cell_type": "code",
   "execution_count": 30,
   "id": "a240725c-bf09-4f58-8279-864d4d66e64a",
   "metadata": {},
   "outputs": [
    {
     "data": {
      "text/plain": [
       "torch.int64"
      ]
     },
     "execution_count": 30,
     "metadata": {},
     "output_type": "execute_result"
    }
   ],
   "source": [
    "torch.LongTensor(1,2).dtype"
   ]
  },
  {
   "cell_type": "markdown",
   "id": "666ffdc7-20f6-459e-beb4-53ccde8470c6",
   "metadata": {},
   "source": [
    "### torch.Tnsor和torch.tensor"
   ]
  },
  {
   "cell_type": "code",
   "execution_count": 31,
   "id": "dffceeae-d084-4ffd-b7e3-1ed3f16efabe",
   "metadata": {},
   "outputs": [
    {
     "data": {
      "text/plain": [
       "tensor([1., 1.])"
      ]
     },
     "execution_count": 31,
     "metadata": {},
     "output_type": "execute_result"
    }
   ],
   "source": [
    "torch.Tensor([1,1])"
   ]
  },
  {
   "cell_type": "code",
   "execution_count": 32,
   "id": "2fe8c941-232f-4dc1-ba2f-05287d7ca04f",
   "metadata": {},
   "outputs": [
    {
     "data": {
      "text/plain": [
       "tensor([8.449226e-39])"
      ]
     },
     "execution_count": 32,
     "metadata": {},
     "output_type": "execute_result"
    }
   ],
   "source": [
    "torch.FloatTensor(1)"
   ]
  },
  {
   "cell_type": "markdown",
   "id": "c30483e8-9e1c-4e6d-ac68-f8f840bf5960",
   "metadata": {},
   "source": [
    "### tensor相加"
   ]
  },
  {
   "cell_type": "code",
   "execution_count": 39,
   "id": "893e69ba-62d1-4cdf-8078-f18720506e69",
   "metadata": {},
   "outputs": [
    {
     "data": {
      "text/plain": [
       "tensor([[0.928270, 0.821194, 0.785410, 0.350239, 0.913368],\n",
       "        [0.384682, 0.044499, 0.448167, 0.295384, 0.039900]])"
      ]
     },
     "execution_count": 39,
     "metadata": {},
     "output_type": "execute_result"
    }
   ],
   "source": [
    "x, y = torch.ones(2,5), torch.rand(2,5)\n",
    "y"
   ]
  },
  {
   "cell_type": "code",
   "execution_count": 40,
   "id": "edd65818-0cc9-4fc9-8f48-f921f0464132",
   "metadata": {},
   "outputs": [
    {
     "data": {
      "text/plain": [
       "tensor([[1.928270, 1.821194, 1.785410, 1.350239, 1.913368],\n",
       "        [1.384681, 1.044499, 1.448167, 1.295384, 1.039900]])"
      ]
     },
     "execution_count": 40,
     "metadata": {},
     "output_type": "execute_result"
    }
   ],
   "source": [
    "x+y"
   ]
  },
  {
   "cell_type": "code",
   "execution_count": null,
   "id": "cd5bc62e-aa02-44fd-b8b8-bdf12bf71ea2",
   "metadata": {},
   "outputs": [],
   "source": [
    "### 新建空间相加"
   ]
  },
  {
   "cell_type": "code",
   "execution_count": 41,
   "id": "39b8bb6b-b060-4fa8-832e-d46ccde09d54",
   "metadata": {},
   "outputs": [
    {
     "data": {
      "text/plain": [
       "tensor([[1.928270, 1.821194, 1.785410, 1.350239, 1.913368],\n",
       "        [1.384681, 1.044499, 1.448167, 1.295384, 1.039900]])"
      ]
     },
     "execution_count": 41,
     "metadata": {},
     "output_type": "execute_result"
    }
   ],
   "source": [
    "torch.add(x,y)"
   ]
  },
  {
   "cell_type": "code",
   "execution_count": 42,
   "id": "f3635a19-7c11-457a-a6aa-4771231d7e8b",
   "metadata": {},
   "outputs": [
    {
     "data": {
      "text/plain": [
       "tensor([[1.928270, 1.821194, 1.785410, 1.350239, 1.913368],\n",
       "        [1.384681, 1.044499, 1.448167, 1.295384, 1.039900]])"
      ]
     },
     "execution_count": 42,
     "metadata": {},
     "output_type": "execute_result"
    }
   ],
   "source": [
    "x.add(y)"
   ]
  },
  {
   "cell_type": "markdown",
   "id": "35b8302d-e63c-4529-a358-57bf2e80f4bb",
   "metadata": {},
   "source": [
    "### 就地修改"
   ]
  },
  {
   "cell_type": "code",
   "execution_count": 44,
   "id": "1bec6724-10bd-4baa-9dbc-4159a5d0c0fa",
   "metadata": {},
   "outputs": [
    {
     "data": {
      "text/plain": [
       "tensor([[1.928270, 1.821194, 1.785410, 1.350239, 1.913368],\n",
       "        [1.384681, 1.044499, 1.448167, 1.295384, 1.039900]])"
      ]
     },
     "execution_count": 44,
     "metadata": {},
     "output_type": "execute_result"
    }
   ],
   "source": [
    "x.add_(y)"
   ]
  },
  {
   "cell_type": "markdown",
   "id": "ba1f63e9-bf26-44ee-9bdd-351d56d671ee",
   "metadata": {},
   "source": [
    "### CUDA中的tensor"
   ]
  },
  {
   "cell_type": "code",
   "execution_count": 53,
   "id": "fa217f14-4642-4d93-bd92-916db872daf7",
   "metadata": {},
   "outputs": [
    {
     "data": {
      "text/plain": [
       "False"
      ]
     },
     "execution_count": 53,
     "metadata": {},
     "output_type": "execute_result"
    }
   ],
   "source": [
    "torch.cuda.is_available()"
   ]
  },
  {
   "cell_type": "code",
   "execution_count": 54,
   "id": "82669a5a-ea7f-4ff3-8d7c-154bdb4d1701",
   "metadata": {},
   "outputs": [
    {
     "name": "stdout",
     "output_type": "stream",
     "text": [
      "Package              Version\n",
      "-------------------- -----------\n",
      "anyio                3.6.1\n",
      "argon2-cffi          21.3.0\n",
      "argon2-cffi-bindings 21.2.0\n",
      "asttokens            2.0.7\n",
      "attrs                22.1.0\n",
      "Babel                2.10.3\n",
      "backcall             0.2.0\n",
      "beautifulsoup4       4.11.1\n",
      "bleach               5.0.1\n",
      "certifi              2022.6.15\n",
      "cffi                 1.15.1\n",
      "charset-normalizer   2.1.0\n",
      "colorama             0.4.5\n",
      "debugpy              1.6.2\n",
      "decorator            5.1.1\n",
      "defusedxml           0.7.1\n",
      "entrypoints          0.4\n",
      "executing            0.9.1\n",
      "fastjsonschema       2.16.1\n",
      "future               0.18.2\n",
      "idna                 3.3\n",
      "importlib-metadata   4.12.0\n",
      "ipykernel            6.15.1\n",
      "ipython              8.4.0\n",
      "ipython-genutils     0.2.0\n",
      "jedi                 0.18.1\n",
      "Jinja2               3.1.2\n",
      "json5                0.9.9\n",
      "jsonschema           4.9.1\n",
      "jupyter-client       7.3.4\n",
      "jupyter-core         4.11.1\n",
      "jupyter-server       1.18.1\n",
      "jupyterlab           3.4.4\n",
      "jupyterlab-pygments  0.2.2\n",
      "jupyterlab-server    2.15.0\n",
      "MarkupSafe           2.1.1\n",
      "matplotlib-inline    0.1.3\n",
      "mistune              0.8.4\n",
      "mkl-fft              1.3.1\n",
      "mkl-random           1.2.2\n",
      "mkl-service          2.4.0\n",
      "nbclassic            0.4.3\n",
      "nbclient             0.6.6\n",
      "nbconvert            6.5.0\n",
      "nbformat             5.4.0\n",
      "nest-asyncio         1.5.5\n",
      "notebook             6.4.12\n",
      "notebook-shim        0.1.0\n",
      "numpy                1.23.1\n",
      "packaging            21.3\n",
      "pandocfilters        1.5.0\n",
      "parso                0.8.3\n",
      "pickleshare          0.7.5\n",
      "Pillow               9.2.0\n",
      "pip                  22.1.2\n",
      "prometheus-client    0.14.1\n",
      "prompt-toolkit       3.0.30\n",
      "psutil               5.9.1\n",
      "pure-eval            0.2.2\n",
      "pycparser            2.21\n",
      "Pygments             2.12.0\n",
      "pyparsing            3.0.9\n",
      "pyrsistent           0.18.1\n",
      "python-dateutil      2.8.2\n",
      "pytz                 2022.1\n",
      "pywin32              304\n",
      "pywinpty             2.0.7\n",
      "pyzmq                23.2.0\n",
      "requests             2.28.1\n",
      "Send2Trash           1.8.0\n",
      "setuptools           61.2.0\n",
      "six                  1.16.0\n",
      "sniffio              1.2.0\n",
      "soupsieve            2.3.2.post1\n",
      "stack-data           0.3.0\n",
      "terminado            0.15.0\n",
      "tinycss2             1.1.1\n",
      "torch                1.10.2\n",
      "torchaudio           0.10.2\n",
      "torchvision          0.11.3\n",
      "tornado              6.2\n",
      "traitlets            5.3.0\n",
      "typing_extensions    4.3.0\n",
      "urllib3              1.26.11\n",
      "wcwidth              0.2.5\n",
      "webencodings         0.5.1\n",
      "websocket-client     1.3.3\n",
      "wheel                0.37.1\n",
      "wincertstore         0.2\n",
      "zipp                 3.8.1\n",
      "Note: you may need to restart the kernel to use updated packages.\n"
     ]
    }
   ],
   "source": [
    "pip list"
   ]
  },
  {
   "cell_type": "code",
   "execution_count": 55,
   "id": "ca47bf09-1e37-4e64-abc4-feafbfece7d5",
   "metadata": {},
   "outputs": [],
   "source": [
    "device = torch.device(\"cuda\")"
   ]
  },
  {
   "cell_type": "code",
   "execution_count": 56,
   "id": "99461bd3-497a-438a-ae92-03faedb7e20a",
   "metadata": {},
   "outputs": [
    {
     "data": {
      "text/plain": [
       "device(type='cuda')"
      ]
     },
     "execution_count": 56,
     "metadata": {},
     "output_type": "execute_result"
    }
   ],
   "source": [
    "device"
   ]
  },
  {
   "cell_type": "code",
   "execution_count": 57,
   "id": "d4f23e6f-5223-46d1-a07f-e9573e90a503",
   "metadata": {},
   "outputs": [
    {
     "ename": "AssertionError",
     "evalue": "Torch not compiled with CUDA enabled",
     "output_type": "error",
     "traceback": [
      "\u001b[1;31m---------------------------------------------------------\u001b[0m",
      "\u001b[1;31mAssertionError\u001b[0m          Traceback (most recent call last)",
      "Input \u001b[1;32mIn [57]\u001b[0m, in \u001b[0;36m<cell line: 1>\u001b[1;34m()\u001b[0m\n\u001b[1;32m----> 1\u001b[0m \u001b[43mtorch\u001b[49m\u001b[38;5;241;43m.\u001b[39;49m\u001b[43mzeros\u001b[49m\u001b[43m(\u001b[49m\u001b[43m[\u001b[49m\u001b[38;5;241;43m2\u001b[39;49m\u001b[43m,\u001b[49m\u001b[38;5;241;43m3\u001b[39;49m\u001b[43m]\u001b[49m\u001b[43m,\u001b[49m\u001b[43m \u001b[49m\u001b[43mdevice\u001b[49m\u001b[38;5;241;43m=\u001b[39;49m\u001b[43mdevice\u001b[49m\u001b[43m)\u001b[49m\n",
      "File \u001b[1;32mD:\\anaconda\\envs\\ml\\lib\\site-packages\\torch\\cuda\\__init__.py:208\u001b[0m, in \u001b[0;36m_lazy_init\u001b[1;34m()\u001b[0m\n\u001b[0;32m    204\u001b[0m     \u001b[38;5;28;01mraise\u001b[39;00m \u001b[38;5;167;01mRuntimeError\u001b[39;00m(\n\u001b[0;32m    205\u001b[0m         \u001b[38;5;124m\"\u001b[39m\u001b[38;5;124mCannot re-initialize CUDA in forked subprocess. To use CUDA with \u001b[39m\u001b[38;5;124m\"\u001b[39m\n\u001b[0;32m    206\u001b[0m         \u001b[38;5;124m\"\u001b[39m\u001b[38;5;124mmultiprocessing, you must use the \u001b[39m\u001b[38;5;124m'\u001b[39m\u001b[38;5;124mspawn\u001b[39m\u001b[38;5;124m'\u001b[39m\u001b[38;5;124m start method\u001b[39m\u001b[38;5;124m\"\u001b[39m)\n\u001b[0;32m    207\u001b[0m \u001b[38;5;28;01mif\u001b[39;00m \u001b[38;5;129;01mnot\u001b[39;00m \u001b[38;5;28mhasattr\u001b[39m(torch\u001b[38;5;241m.\u001b[39m_C, \u001b[38;5;124m'\u001b[39m\u001b[38;5;124m_cuda_getDeviceCount\u001b[39m\u001b[38;5;124m'\u001b[39m):\n\u001b[1;32m--> 208\u001b[0m     \u001b[38;5;28;01mraise\u001b[39;00m \u001b[38;5;167;01mAssertionError\u001b[39;00m(\u001b[38;5;124m\"\u001b[39m\u001b[38;5;124mTorch not compiled with CUDA enabled\u001b[39m\u001b[38;5;124m\"\u001b[39m)\n\u001b[0;32m    209\u001b[0m \u001b[38;5;28;01mif\u001b[39;00m _cudart \u001b[38;5;129;01mis\u001b[39;00m \u001b[38;5;28;01mNone\u001b[39;00m:\n\u001b[0;32m    210\u001b[0m     \u001b[38;5;28;01mraise\u001b[39;00m \u001b[38;5;167;01mAssertionError\u001b[39;00m(\n\u001b[0;32m    211\u001b[0m         \u001b[38;5;124m\"\u001b[39m\u001b[38;5;124mlibcudart functions unavailable. It looks like you have a broken build?\u001b[39m\u001b[38;5;124m\"\u001b[39m)\n",
      "\u001b[1;31mAssertionError\u001b[0m: Torch not compiled with CUDA enabled"
     ]
    }
   ],
   "source": [
    "torch.zeros([2,3], device=device)"
   ]
  },
  {
   "cell_type": "code",
   "execution_count": null,
   "id": "26fb850f-da2c-4d8d-9721-4845a25561b5",
   "metadata": {},
   "outputs": [],
   "source": []
  }
 ],
 "metadata": {
  "kernelspec": {
   "display_name": "Python 3 (ipykernel)",
   "language": "python",
   "name": "python3"
  },
  "language_info": {
   "codemirror_mode": {
    "name": "ipython",
    "version": 3
   },
   "file_extension": ".py",
   "mimetype": "text/x-python",
   "name": "python",
   "nbconvert_exporter": "python",
   "pygments_lexer": "ipython3",
   "version": "3.9.12"
  }
 },
 "nbformat": 4,
 "nbformat_minor": 5
}
